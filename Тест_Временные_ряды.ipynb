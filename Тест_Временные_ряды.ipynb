{
  "cells": [
    {
      "cell_type": "code",
      "execution_count": null,
      "metadata": {
        "id": "N4NQPv1RQCxo"
      },
      "outputs": [],
      "source": [
        "import numpy as np\n",
        "import pandas as pd\n",
        "import yfinance as yf\n",
        "import datetime as dt\n",
        "import matplotlib.pyplot as plt\n",
        "import math\n"
      ]
    },
    {
      "cell_type": "code",
      "execution_count": null,
      "metadata": {
        "colab": {
          "base_uri": "https://localhost:8080/"
        },
        "id": "yQgKx0DyQXOA",
        "outputId": "95a41ab5-4f2b-4628-a3cb-f478393bd4be"
      },
      "outputs": [
        {
          "name": "stderr",
          "output_type": "stream",
          "text": [
            "\r[*********************100%%**********************]  1 of 1 completed"
          ]
        },
        {
          "name": "stdout",
          "output_type": "stream",
          "text": [
            "                  Open        High  ...   Adj Close    Volume\n",
            "Date                                ...                      \n",
            "2020-04-01   56.200001   56.471001  ...   55.105000  51970000\n",
            "2020-04-02   55.000000   56.138500  ...   55.851501  56410000\n",
            "...                ...         ...  ...         ...       ...\n",
            "2023-03-30  100.910004  101.160004  ...  100.889999  33086200\n",
            "2023-03-31  101.300003  103.889999  ...  103.730003  36863400\n",
            "\n",
            "[756 rows x 6 columns]\n"
          ]
        },
        {
          "name": "stderr",
          "output_type": "stream",
          "text": [
            "\n"
          ]
        }
      ],
      "source": [
        "#the start and end date\n",
        "start_date = dt.datetime(2020,4,1)\n",
        "end_date = dt.datetime(2023,4,1)\n",
        "\n",
        "#loading from yahoo finance\n",
        "data = yf.download(\"GOOGL\",start_date, end_date)\n",
        "\n",
        "pd.set_option('display.max_rows', 4)\n",
        "pd.set_option('display.max_columns',5)\n",
        "print(data)\n"
      ]
    },
    {
      "cell_type": "code",
      "execution_count": null,
      "metadata": {
        "colab": {
          "base_uri": "https://localhost:8080/"
        },
        "id": "6pm0LjIdQnEW",
        "outputId": "ab1f57c8-cb65-408a-edc3-639cf8877203"
      },
      "outputs": [
        {
          "name": "stdout",
          "output_type": "stream",
          "text": [
            "(605, 1) (151, 1)\n"
          ]
        }
      ],
      "source": [
        "# Setting 80 percent data for training\n",
        "training_data_len = math.ceil(len(data) * .8)\n",
        "training_data_len\n",
        "\n",
        "#Splitting the dataset\n",
        "train_data = data[:training_data_len].iloc[:,:1]\n",
        "test_data = data[training_data_len:].iloc[:,:1]\n",
        "print(train_data.shape, test_data.shape)\n"
      ]
    },
    {
      "cell_type": "code",
      "execution_count": null,
      "metadata": {
        "colab": {
          "base_uri": "https://localhost:8080/"
        },
        "id": "MORq8YxQQwJB",
        "outputId": "454fed13-9231-4590-dfd8-f29c76b79400"
      },
      "outputs": [
        {
          "data": {
            "text/plain": [
              "(605, 1)"
            ]
          },
          "execution_count": 4,
          "metadata": {},
          "output_type": "execute_result"
        }
      ],
      "source": [
        "# Selecting Open Price values\n",
        "dataset_train = train_data.Open.values\n",
        "# Reshaping 1D to 2D array\n",
        "dataset_train = np.reshape(dataset_train, (-1,1))\n",
        "dataset_train.shape\n"
      ]
    },
    {
      "cell_type": "code",
      "execution_count": null,
      "metadata": {
        "colab": {
          "base_uri": "https://localhost:8080/"
        },
        "id": "uT6GlGlfQ14h",
        "outputId": "2f9f5478-79e3-46c3-c543-b0e286a86924"
      },
      "outputs": [
        {
          "name": "stdout",
          "output_type": "stream",
          "text": [
            "[[0.01246754]\n",
            " [0.        ]\n",
            " [0.00764156]\n",
            " [0.01714287]\n",
            " [0.0607844 ]]\n"
          ]
        }
      ],
      "source": [
        "from sklearn.preprocessing import MinMaxScaler\n",
        "scaler = MinMaxScaler(feature_range=(0,1))\n",
        "# scaling dataset\n",
        "scaled_train = scaler.fit_transform(dataset_train)\n",
        "\n",
        "print(scaled_train[:5])\n"
      ]
    },
    {
      "cell_type": "code",
      "execution_count": null,
      "metadata": {
        "colab": {
          "base_uri": "https://localhost:8080/"
        },
        "id": "WhAvKMJnQ5B1",
        "outputId": "d9f3c083-048d-49df-de55-3d6a50f9de59"
      },
      "outputs": [
        {
          "name": "stdout",
          "output_type": "stream",
          "text": [
            "[0.98362881] [1.] [0.83867656] [0.84481572] [0.86118691]\n"
          ]
        }
      ],
      "source": [
        "# Selecting Open Price values\n",
        "dataset_test = test_data.Open.values\n",
        "# Reshaping 1D to 2D array\n",
        "dataset_test = np.reshape(dataset_test, (-1,1))\n",
        "# Normalizing values between 0 and 1\n",
        "scaled_test = scaler.fit_transform(dataset_test)\n",
        "print(*scaled_test[:5])\n"
      ]
    },
    {
      "cell_type": "code",
      "execution_count": null,
      "metadata": {
        "colab": {
          "base_uri": "https://localhost:8080/"
        },
        "id": "TAm3ouB7RIxQ",
        "outputId": "f6b5b87f-658d-4edd-c6bb-9169bc9a562a"
      },
      "outputs": [
        {
          "name": "stdout",
          "output_type": "stream",
          "text": [
            "[array([0.01246754, 0.        , 0.00764156, 0.01714287, 0.0607844 ,\n",
            "       0.05355843, 0.06139221, 0.05272728, 0.0727117 , 0.0761091 ,\n",
            "       0.08682596, 0.0943896 , 0.08825454, 0.07413508, 0.0733039 ,\n",
            "       0.08609869, 0.08051948, 0.09974024, 0.09516887, 0.12727273,\n",
            "       0.12018702, 0.11641037, 0.1081195 , 0.12337662, 0.13402599,\n",
            "       0.13574544, 0.14640004, 0.14378702, 0.16011432, 0.14345973,\n",
            "       0.12130912, 0.12896625, 0.13588574, 0.14830132, 0.15021299,\n",
            "       0.16155324, 0.15787013, 0.17764155, 0.16623377, 0.15584416,\n",
            "       0.16645714, 0.16919484, 0.17402597, 0.178026  , 0.17495062,\n",
            "       0.16396881, 0.16949613, 0.17934547, 0.18779741, 0.17715843])]\n",
            "[0.16927791446834417]\n",
            "\n",
            "[array([0.01246754, 0.        , 0.00764156, 0.01714287, 0.0607844 ,\n",
            "       0.05355843, 0.06139221, 0.05272728, 0.0727117 , 0.0761091 ,\n",
            "       0.08682596, 0.0943896 , 0.08825454, 0.07413508, 0.0733039 ,\n",
            "       0.08609869, 0.08051948, 0.09974024, 0.09516887, 0.12727273,\n",
            "       0.12018702, 0.11641037, 0.1081195 , 0.12337662, 0.13402599,\n",
            "       0.13574544, 0.14640004, 0.14378702, 0.16011432, 0.14345973,\n",
            "       0.12130912, 0.12896625, 0.13588574, 0.14830132, 0.15021299,\n",
            "       0.16155324, 0.15787013, 0.17764155, 0.16623377, 0.15584416,\n",
            "       0.16645714, 0.16919484, 0.17402597, 0.178026  , 0.17495062,\n",
            "       0.16396881, 0.16949613, 0.17934547, 0.18779741, 0.17715843]), array([0.        , 0.00764156, 0.01714287, 0.0607844 , 0.05355843,\n",
            "       0.06139221, 0.05272728, 0.0727117 , 0.0761091 , 0.08682596,\n",
            "       0.0943896 , 0.08825454, 0.07413508, 0.0733039 , 0.08609869,\n",
            "       0.08051948, 0.09974024, 0.09516887, 0.12727273, 0.12018702,\n",
            "       0.11641037, 0.1081195 , 0.12337662, 0.13402599, 0.13574544,\n",
            "       0.14640004, 0.14378702, 0.16011432, 0.14345973, 0.12130912,\n",
            "       0.12896625, 0.13588574, 0.14830132, 0.15021299, 0.16155324,\n",
            "       0.15787013, 0.17764155, 0.16623377, 0.15584416, 0.16645714,\n",
            "       0.16919484, 0.17402597, 0.178026  , 0.17495062, 0.16396881,\n",
            "       0.16949613, 0.17934547, 0.18779741, 0.17715843, 0.16927791])]\n",
            "[0.16927791446834417, 0.15038444221793834]\n",
            "\n"
          ]
        }
      ],
      "source": [
        "X_train = []\n",
        "y_train = []\n",
        "for i in range(50, len(scaled_train)):\n",
        "\tX_train.append(scaled_train[i-50:i, 0])\n",
        "\ty_train.append(scaled_train[i, 0])\n",
        "\tif i <= 51:\n",
        "\t\tprint(X_train)\n",
        "\t\tprint(y_train)\n",
        "\t\tprint()\n"
      ]
    },
    {
      "cell_type": "code",
      "execution_count": null,
      "metadata": {
        "id": "dInalMr_SCnV"
      },
      "outputs": [],
      "source": [
        "X_test = []\n",
        "y_test = []\n",
        "for i in range(50, len(scaled_test)):\n",
        "\tX_test.append(scaled_test[i-50:i, 0])\n",
        "\ty_test.append(scaled_test[i, 0])\n"
      ]
    },
    {
      "cell_type": "code",
      "execution_count": null,
      "metadata": {
        "colab": {
          "base_uri": "https://localhost:8080/"
        },
        "id": "6FAgPFbTSJb2",
        "outputId": "a1b9d2f5-4929-42cf-e334-9cc226a7588f"
      },
      "outputs": [
        {
          "name": "stdout",
          "output_type": "stream",
          "text": [
            "X_train : (555, 50, 1) y_train : (555, 1)\n"
          ]
        }
      ],
      "source": [
        "# The data is converted to Numpy array\n",
        "X_train, y_train = np.array(X_train), np.array(y_train)\n",
        "\n",
        "#Reshaping\n",
        "X_train = np.reshape(X_train, (X_train.shape[0], X_train.shape[1],1))\n",
        "y_train = np.reshape(y_train, (y_train.shape[0],1))\n",
        "print(\"X_train :\",X_train.shape,\"y_train :\",y_train.shape)\n"
      ]
    },
    {
      "cell_type": "code",
      "execution_count": null,
      "metadata": {
        "colab": {
          "base_uri": "https://localhost:8080/"
        },
        "id": "vH5APWZHSLlh",
        "outputId": "ba731d93-5cd9-4bb8-d0c4-52d28d6b0087"
      },
      "outputs": [
        {
          "name": "stdout",
          "output_type": "stream",
          "text": [
            "X_test : (101, 50, 1) y_test : (101, 1)\n"
          ]
        }
      ],
      "source": [
        "# The data is converted to numpy array\n",
        "X_test, y_test = np.array(X_test), np.array(y_test)\n",
        "\n",
        "#Reshaping\n",
        "X_test = np.reshape(X_test, (X_test.shape[0], X_test.shape[1],1))\n",
        "y_test = np.reshape(y_test, (y_test.shape[0],1))\n",
        "print(\"X_test :\",X_test.shape,\"y_test :\",y_test.shape)\n"
      ]
    },
    {
      "cell_type": "code",
      "execution_count": null,
      "metadata": {
        "id": "K0w5HaroSTb1"
      },
      "outputs": [],
      "source": [
        "# importing libraries\n",
        "from keras.models import Sequential\n",
        "from keras.layers import LSTM\n",
        "from keras.layers import Dense\n",
        "from keras.layers import SimpleRNN\n",
        "from keras.layers import Dropout\n",
        "from keras.layers import GRU, Bidirectional\n",
        "from keras.optimizers import SGD\n",
        "from sklearn import metrics\n",
        "from sklearn.metrics import mean_squared_error\n"
      ]
    },
    {
      "cell_type": "code",
      "execution_count": null,
      "metadata": {
        "colab": {
          "background_save": true,
          "base_uri": "https://localhost:8080/"
        },
        "id": "cvkyun3qSfvI",
        "outputId": "92d2e4e7-8bc3-436d-dd17-aa4731792e7a"
      },
      "outputs": [
        {
          "name": "stdout",
          "output_type": "stream",
          "text": [
            "Epoch 1/20\n",
            "278/278 [==============================] - 23s 49ms/step - loss: 0.0129\n",
            "Epoch 2/20\n",
            "278/278 [==============================] - 10s 35ms/step - loss: 0.0040\n",
            "Epoch 3/20\n",
            "278/278 [==============================] - 10s 35ms/step - loss: 0.0030\n",
            "Epoch 4/20\n",
            "278/278 [==============================] - 10s 35ms/step - loss: 0.0026\n",
            "Epoch 5/20\n",
            "278/278 [==============================] - 9s 31ms/step - loss: 0.0028\n",
            "Epoch 6/20\n",
            "278/278 [==============================] - 10s 35ms/step - loss: 0.0024\n",
            "Epoch 7/20\n",
            "278/278 [==============================] - 10s 35ms/step - loss: 0.0024\n",
            "Epoch 8/20\n",
            "278/278 [==============================] - 10s 36ms/step - loss: 0.0021\n",
            "Epoch 9/20\n",
            "278/278 [==============================] - 9s 33ms/step - loss: 0.0021\n",
            "Epoch 10/20\n",
            "278/278 [==============================] - 11s 39ms/step - loss: 0.0021\n",
            "Epoch 11/20\n",
            "278/278 [==============================] - 10s 35ms/step - loss: 0.0019\n",
            "Epoch 12/20\n",
            "278/278 [==============================] - 11s 40ms/step - loss: 0.0019\n",
            "Epoch 13/20\n",
            "278/278 [==============================] - 10s 35ms/step - loss: 0.0019\n",
            "Epoch 14/20\n",
            "278/278 [==============================] - 10s 34ms/step - loss: 0.0017\n",
            "Epoch 15/20\n",
            "278/278 [==============================] - 9s 32ms/step - loss: 0.0019\n",
            "Epoch 16/20\n",
            "278/278 [==============================] - 10s 35ms/step - loss: 0.0017\n",
            "Epoch 17/20\n",
            "278/278 [==============================] - 10s 35ms/step - loss: 0.0016\n",
            "Epoch 18/20\n",
            "278/278 [==============================] - 10s 35ms/step - loss: 0.0016\n",
            "Epoch 19/20\n",
            "278/278 [==============================] - 9s 31ms/step - loss: 0.0013\n",
            "Epoch 20/20\n",
            "278/278 [==============================] - 10s 35ms/step - loss: 0.0015\n",
            "Model: \"sequential\"\n",
            "_________________________________________________________________\n",
            " Layer (type)                Output Shape              Param #   \n",
            "=================================================================\n",
            " simple_rnn (SimpleRNN)      (None, 50, 50)            2600      \n",
            "                                                                 \n",
            " dropout (Dropout)           (None, 50, 50)            0         \n",
            "                                                                 \n",
            " simple_rnn_1 (SimpleRNN)    (None, 50, 50)            5050      \n",
            "                                                                 \n",
            " simple_rnn_2 (SimpleRNN)    (None, 50, 50)            5050      \n",
            "                                                                 \n",
            " simple_rnn_3 (SimpleRNN)    (None, 50)                5050      \n",
            "                                                                 \n",
            " dense (Dense)               (None, 1)                 51        \n",
            "                                                                 \n",
            "=================================================================\n",
            "Total params: 17801 (69.54 KB)\n",
            "Trainable params: 17801 (69.54 KB)\n",
            "Non-trainable params: 0 (0.00 Byte)\n",
            "_________________________________________________________________\n"
          ]
        }
      ],
      "source": [
        "# initializing the RNN\n",
        "regressor = Sequential()\n",
        "\n",
        "# adding RNN layers and dropout regularization\n",
        "regressor.add(SimpleRNN(units = 50,\n",
        "\t\t\t\t\t\tactivation = \"tanh\",\n",
        "\t\t\t\t\t\treturn_sequences = True,\n",
        "\t\t\t\t\t\tinput_shape = (X_train.shape[1],1)))\n",
        "regressor.add(Dropout(0.2))\n",
        "\n",
        "regressor.add(SimpleRNN(units = 50,\n",
        "\t\t\t\t\t\tactivation = \"tanh\",\n",
        "\t\t\t\t\t\treturn_sequences = True))\n",
        "\n",
        "regressor.add(SimpleRNN(units = 50,\n",
        "\t\t\t\t\t\tactivation = \"tanh\",\n",
        "\t\t\t\t\t\treturn_sequences = True))\n",
        "\n",
        "regressor.add( SimpleRNN(units = 50))\n",
        "\n",
        "# adding the output layer\n",
        "regressor.add(Dense(units = 1,activation='sigmoid'))\n",
        "\n",
        "# compiling RNN\n",
        "regressor.compile(optimizer = SGD(learning_rate=0.01,\n",
        "\t\t\t\t\t\t\t\t#decay=1e-6,\n",
        "\t\t\t\t\t\t\t\tmomentum=0.9,\n",
        "\t\t\t\t\t\t\t\tnesterov=True),\n",
        "\t\t\t\tloss = \"mean_squared_error\")\n",
        "\n",
        "# fitting the model\n",
        "regressor.fit(X_train, y_train, epochs = 20, batch_size = 2)\n",
        "regressor.summary()\n"
      ]
    },
    {
      "cell_type": "code",
      "execution_count": null,
      "metadata": {
        "colab": {
          "background_save": true
        },
        "id": "iD_Qu3lfEyeO",
        "outputId": "c4bc5577-e4ed-42fc-9978-1caa4db27743"
      },
      "outputs": [
        {
          "name": "stdout",
          "output_type": "stream",
          "text": [
            "Epoch 1/12\n",
            "555/555 [==============================] - 16s 23ms/step - loss: 0.0046 - accuracy: 0.0018\n",
            "Epoch 2/12\n",
            "555/555 [==============================] - 13s 23ms/step - loss: 0.0024 - accuracy: 0.0018\n",
            "Epoch 3/12\n",
            "555/555 [==============================] - 13s 23ms/step - loss: 0.0022 - accuracy: 0.0018\n",
            "Epoch 4/12\n",
            "555/555 [==============================] - 13s 23ms/step - loss: 0.0016 - accuracy: 0.0018\n",
            "Epoch 5/12\n",
            "555/555 [==============================] - 13s 23ms/step - loss: 0.0012 - accuracy: 0.0018\n",
            "Epoch 6/12\n",
            "555/555 [==============================] - 12s 22ms/step - loss: 0.0012 - accuracy: 0.0018\n",
            "Epoch 7/12\n",
            "555/555 [==============================] - 13s 23ms/step - loss: 0.0011 - accuracy: 0.0018\n",
            "Epoch 8/12\n",
            "555/555 [==============================] - 13s 23ms/step - loss: 9.2059e-04 - accuracy: 0.0018\n",
            "Epoch 9/12\n",
            "555/555 [==============================] - 13s 23ms/step - loss: 9.1745e-04 - accuracy: 0.0018\n",
            "Epoch 10/12\n",
            "555/555 [==============================] - 13s 24ms/step - loss: 0.0010 - accuracy: 0.0018\n",
            "Epoch 11/12\n",
            "555/555 [==============================] - 12s 22ms/step - loss: 9.7984e-04 - accuracy: 0.0018\n",
            "Epoch 12/12\n",
            "555/555 [==============================] - 13s 23ms/step - loss: 8.5160e-04 - accuracy: 0.0018\n",
            "Model: \"sequential_1\"\n",
            "_________________________________________________________________\n",
            " Layer (type)                Output Shape              Param #   \n",
            "=================================================================\n",
            " lstm (LSTM)                 (None, 50, 50)            10400     \n",
            "                                                                 \n",
            " lstm_1 (LSTM)               (None, 50)                20200     \n",
            "                                                                 \n",
            " dense_1 (Dense)             (None, 25)                1275      \n",
            "                                                                 \n",
            " dense_2 (Dense)             (None, 1)                 26        \n",
            "                                                                 \n",
            "=================================================================\n",
            "Total params: 31901 (124.61 KB)\n",
            "Trainable params: 31901 (124.61 KB)\n",
            "Non-trainable params: 0 (0.00 Byte)\n",
            "_________________________________________________________________\n"
          ]
        }
      ],
      "source": [
        "#Initialising the model\n",
        "regressorLSTM = Sequential()\n",
        "\n",
        "#Adding LSTM layers\n",
        "regressorLSTM.add(LSTM(50,\n",
        "\t\t\t\t\treturn_sequences = True,\n",
        "\t\t\t\t\tinput_shape = (X_train.shape[1],1)))\n",
        "regressorLSTM.add(LSTM(50,\n",
        "\t\t\t\t\treturn_sequences = False))\n",
        "regressorLSTM.add(Dense(25))\n",
        "\n",
        "#Adding the output layer\n",
        "regressorLSTM.add(Dense(1))\n",
        "\n",
        "#Compiling the model\n",
        "regressorLSTM.compile(optimizer = 'adam',\n",
        "\t\t\t\t\tloss = 'mean_squared_error',\n",
        "\t\t\t\t\tmetrics = [\"accuracy\"])\n",
        "\n",
        "#Fitting the model\n",
        "regressorLSTM.fit(X_train,\n",
        "\t\t\t\ty_train,\n",
        "\t\t\t\tbatch_size = 1,\n",
        "\t\t\t\tepochs = 12)\n",
        "regressorLSTM.summary()\n"
      ]
    },
    {
      "cell_type": "code",
      "execution_count": null,
      "metadata": {
        "id": "oK3JNDIfFoXB"
      },
      "outputs": [],
      "source": [
        "#Initialising the model\n",
        "regressorGRU = Sequential()\n",
        "\n",
        "# GRU layers with Dropout regularisation\n",
        "regressorGRU.add(GRU(units=50,\n",
        "\t\t\t\t\treturn_sequences=True,\n",
        "\t\t\t\t\tinput_shape=(X_train.shape[1],1),\n",
        "\t\t\t\t\tactivation='tanh'))\n",
        "regressorGRU.add(Dropout(0.2))\n",
        "\n",
        "regressorGRU.add(GRU(units=50,\n",
        "\t\t\t\t\treturn_sequences=True,\n",
        "\t\t\t\t\tactivation='tanh'))\n",
        "\n",
        "regressorGRU.add(GRU(units=50,\n",
        "\t\t\t\t\treturn_sequences=True,\n",
        "\t\t\t\t\tactivation='tanh'))\n",
        "\n",
        "regressorGRU.add(GRU(units=50,\n",
        "\t\t\t\t\tactivation='tanh'))\n",
        "\n",
        "# The output layer\n",
        "regressorGRU.add(Dense(units=1,\n",
        "\t\t\t\t\tactivation='relu'))\n",
        "# Compiling the RNN\n",
        "regressorGRU.compile(optimizer=SGD(learning_rate=0.01,\n",
        "\t\t\t\t\t\t\t\t#decay=1e-7,\n",
        "\t\t\t\t\t\t\t\tmomentum=0.9,\n",
        "\t\t\t\t\t\t\t\tnesterov=False),\n",
        "\t\t\t\t\tloss='mean_squared_error')\n",
        "\n",
        "# Fitting the data\n",
        "regressorGRU.fit(X_train,y_train,epochs=20,batch_size=1)\n",
        "regressorGRU.summary()\n"
      ]
    },
    {
      "cell_type": "code",
      "execution_count": null,
      "metadata": {
        "id": "rB3_ol1WIRfQ"
      },
      "outputs": [],
      "source": [
        "# predictions with X_test data\n",
        "y_RNN = regressor.predict(X_test)\n",
        "y_LSTM = regressorLSTM.predict(X_test)\n",
        "y_GRU = regressorGRU.predict(X_test)\n"
      ]
    },
    {
      "cell_type": "code",
      "execution_count": null,
      "metadata": {
        "id": "Y411TfzfIWbq"
      },
      "outputs": [],
      "source": [
        "# scaling back from 0-1 to original\n",
        "y_RNN_O = scaler.inverse_transform(y_RNN)\n",
        "y_LSTM_O = scaler.inverse_transform(y_LSTM)\n",
        "y_GRU_O = scaler.inverse_transform(y_GRU)\n"
      ]
    },
    {
      "cell_type": "code",
      "execution_count": null,
      "metadata": {
        "id": "bE395sN8IYmW"
      },
      "outputs": [],
      "source": [
        "fig, axs = plt.subplots(3,figsize =(18,12),sharex=True, sharey=True)\n",
        "fig.suptitle('Model Predictions')\n",
        "\n",
        "#Plot for RNN predictions\n",
        "axs[0].plot(train_data.index[150:], train_data.Open[150:], label = \"train_data\", color = \"b\")\n",
        "axs[0].plot(test_data.index, test_data.Open, label = \"test_data\", color = \"g\")\n",
        "axs[0].plot(test_data.index[50:], y_RNN_O, label = \"y_RNN\", color = \"brown\")\n",
        "axs[0].legend()\n",
        "axs[0].title.set_text(\"Basic RNN\")\n",
        "\n",
        "#Plot for LSTM predictions\n",
        "axs[1].plot(train_data.index[150:], train_data.Open[150:], label = \"train_data\", color = \"b\")\n",
        "axs[1].plot(test_data.index, test_data.Open, label = \"test_data\", color = \"g\")\n",
        "axs[1].plot(test_data.index[50:], y_LSTM_O, label = \"y_LSTM\", color = \"orange\")\n",
        "axs[1].legend()\n",
        "axs[1].title.set_text(\"LSTM\")\n",
        "\n",
        "#Plot for GRU predictions\n",
        "axs[2].plot(train_data.index[150:], train_data.Open[150:], label = \"train_data\", color = \"b\")\n",
        "axs[2].plot(test_data.index, test_data.Open, label = \"test_data\", color = \"g\")\n",
        "axs[2].plot(test_data.index[50:], y_GRU_O, label = \"y_GRU\", color = \"red\")\n",
        "axs[2].legend()\n",
        "axs[2].title.set_text(\"GRU\")\n",
        "\n",
        "plt.xlabel(\"Days\")\n",
        "plt.ylabel(\"Open price\")\n",
        "\n",
        "plt.show()\n"
      ]
    }
  ],
  "metadata": {
    "colab": {
      "provenance": []
    },
    "kernelspec": {
      "display_name": "Python 3",
      "name": "python3"
    },
    "language_info": {
      "name": "python"
    }
  },
  "nbformat": 4,
  "nbformat_minor": 0
}